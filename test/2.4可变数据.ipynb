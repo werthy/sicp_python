{
    "cells": [
        {
            "cell_type": "markdown",
            "source": [
                "## 2.4.1 局部状态\n",
                "**nonlocal** 与局部状态\n",
                "1. 不使用nonlocal时，局部需要（必须）绑定一个新的引用"
            ],
            "metadata": {}
        },
        {
            "cell_type": "code",
            "execution_count": 11,
            "source": [
                "def make_withdraw(balance):\n",
                "    def withdraw(amount):\n",
                "        if amount > balance:\n",
                "            return 'Insufficient'\n",
                "        ## 会报错 因为内部函数不允许修改外部函数的局部变量\n",
                "        # balance = balance - amount \n",
                "        balance2 = balance - amount\n",
                "        return balance2\n",
                "    return withdraw\n",
                "\n",
                "wd = make_withdraw(100)\n",
                "\n",
                "wd(10)\n"
            ],
            "outputs": [
                {
                    "output_type": "execute_result",
                    "data": {
                        "text/plain": [
                            "90"
                        ]
                    },
                    "metadata": {},
                    "execution_count": 11
                }
            ],
            "metadata": {}
        },
        {
            "cell_type": "code",
            "execution_count": 13,
            "source": [
                "wd(10)"
            ],
            "outputs": [
                {
                    "output_type": "execute_result",
                    "data": {
                        "text/plain": [
                            "90"
                        ]
                    },
                    "metadata": {},
                    "execution_count": 13
                }
            ],
            "metadata": {}
        },
        {
            "cell_type": "markdown",
            "source": [
                "2. 使用nonlocal，无需绑定新引用"
            ],
            "metadata": {}
        },
        {
            "cell_type": "code",
            "execution_count": 14,
            "source": [
                "def make_withdraw2(balance):\n",
                "    def withdraw(amount):\n",
                "        nonlocal balance\n",
                "        if amount > balance:\n",
                "            return 'Insufficient'\n",
                "        balance = balance - amount\n",
                "        return balance\n",
                "    return withdraw\n",
                "wd2 = make_withdraw2(100)\n",
                "\n",
                "wd2(10)"
            ],
            "outputs": [
                {
                    "output_type": "execute_result",
                    "data": {
                        "text/plain": [
                            "90"
                        ]
                    },
                    "metadata": {},
                    "execution_count": 14
                }
            ],
            "metadata": {}
        },
        {
            "cell_type": "code",
            "execution_count": 16,
            "source": [
                "wd2(10)"
            ],
            "outputs": [
                {
                    "output_type": "execute_result",
                    "data": {
                        "text/plain": [
                            "70"
                        ]
                    },
                    "metadata": {},
                    "execution_count": 16
                }
            ],
            "metadata": {}
        },
        {
            "cell_type": "markdown",
            "source": [
                "### 2.4.5 字典\n",
                "* list 的多赋值"
            ],
            "metadata": {}
        },
        {
            "cell_type": "code",
            "execution_count": 1,
            "source": [
                "lists = [[1,2],[2,2],[3,2]]\n",
                "\n",
                "for k,v in lists:\n",
                "    print(k,v)"
            ],
            "outputs": [
                {
                    "output_type": "stream",
                    "name": "stdout",
                    "text": [
                        "1 2\n",
                        "2 2\n",
                        "3 2\n"
                    ]
                }
            ],
            "metadata": {}
        },
        {
            "cell_type": "code",
            "execution_count": 5,
            "source": [
                "list = [1,2,3,4]\n",
                "\n",
                "[a,b,c,d] = list\n",
                "aa,bb,cc,dd = list\n",
                "print(a,b,c,d)\n",
                "print(aa,bb,cc,dd)"
            ],
            "outputs": [
                {
                    "output_type": "stream",
                    "name": "stdout",
                    "text": [
                        "1 2 3 4\n",
                        "1 2 3 4\n"
                    ]
                }
            ],
            "metadata": {}
        },
        {
            "cell_type": "code",
            "execution_count": null,
            "source": [],
            "outputs": [],
            "metadata": {}
        }
    ],
    "metadata": {
        "orig_nbformat": 4,
        "language_info": {
            "name": "python",
            "version": "3.8.2",
            "mimetype": "text/x-python",
            "codemirror_mode": {
                "name": "ipython",
                "version": 3
            },
            "pygments_lexer": "ipython3",
            "nbconvert_exporter": "python",
            "file_extension": ".py"
        },
        "kernelspec": {
            "name": "python3",
            "display_name": "Python 3.8.2 64-bit"
        },
        "interpreter": {
            "hash": "31f2aee4e71d21fbe5cf8b01ff0e069b9275f58929596ceb00d14d90e3e16cd6"
        }
    },
    "nbformat": 4,
    "nbformat_minor": 2
}