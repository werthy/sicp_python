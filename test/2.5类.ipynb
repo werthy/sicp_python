{
 "cells": [
  {
   "cell_type": "markdown",
   "source": [
    "## Test 正逆序遍历\n",
    "1. 正序遍历\n",
    "如果删除，则所有元素index自动向前进。\n",
    "会导致遍历中漏过删除元素的后继元素。"
   ],
   "metadata": {}
  },
  {
   "cell_type": "code",
   "execution_count": null,
   "source": [
    "a = [2,4,6,8]\n",
    "i = -1\n",
    "for e in a:\n",
    "    i += 1\n",
    "    if e % 2 == 0:\n",
    "        del a[i]\n",
    "\n",
    "print(a)"
   ],
   "outputs": [],
   "metadata": {}
  },
  {
   "cell_type": "markdown",
   "source": [
    "2. 逆序遍历 (**切片**)\n",
    "删除之后，index自动前进，但涉及的都是已经遍历过的元素。所以不会影响结果"
   ],
   "metadata": {}
  },
  {
   "cell_type": "code",
   "execution_count": 1,
   "source": [
    "b = [2,4,6,8]\n",
    "i = 4\n",
    "for e in b[::-1]:\n",
    "    i-=1\n",
    "    if e % 2 == 0:\n",
    "        del b[i]\n",
    "print(b)"
   ],
   "outputs": [
    {
     "output_type": "stream",
     "name": "stdout",
     "text": [
      "[]\n"
     ]
    }
   ],
   "metadata": {}
  },
  {
   "cell_type": "markdown",
   "source": [
    "Q: 切片这里似乎是没有 **拷贝** 操作的？\n"
   ],
   "metadata": {}
  },
  {
   "cell_type": "markdown",
   "source": [
    "A: 不是这样的，切片对第一层深拷贝，对第二层浅拷贝。这里使用了一个index来处理原来的数组，正如逆序中提到的，避免了错误的进位问题。"
   ],
   "metadata": {}
  },
  {
   "cell_type": "code",
   "execution_count": null,
   "source": [
    "a = [2,4,6,8]\n",
    "i = -1\n",
    "for e in a[:]:\n",
    "    i += 1\n",
    "    if e % 2 == 0:\n",
    "        del a[i]\n",
    "print(a)"
   ],
   "outputs": [],
   "metadata": {}
  }
 ],
 "metadata": {
  "orig_nbformat": 4,
  "language_info": {
   "name": "python",
   "version": "3.8.2",
   "mimetype": "text/x-python",
   "codemirror_mode": {
    "name": "ipython",
    "version": 3
   },
   "pygments_lexer": "ipython3",
   "nbconvert_exporter": "python",
   "file_extension": ".py"
  },
  "kernelspec": {
   "name": "python3",
   "display_name": "Python 3.8.2 64-bit"
  },
  "interpreter": {
   "hash": "31f2aee4e71d21fbe5cf8b01ff0e069b9275f58929596ceb00d14d90e3e16cd6"
  }
 },
 "nbformat": 4,
 "nbformat_minor": 2
}